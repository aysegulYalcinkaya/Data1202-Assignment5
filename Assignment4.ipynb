{
 "cells": [
  {
   "cell_type": "markdown",
   "id": "cb0acedf-1664-44ed-a1d1-77fc7a48824b",
   "metadata": {},
   "source": [
    "<div style=\"text-align:center;border:1px solid gray; padding-top:20px;padding-bottom:20px\">\n",
    "    <h1>DATA 1202-DATA ANALYSIS TOOLS ANALYTICS</h1>\n",
    "    <h1>Assignment #4</h1>\n",
    "    <p style=\"text-align:center;\"><strong>Submitted by: Group #7</strong><br/>Aysegul Yalcinkaya - 100841003<br/>Sayeed S Ahmed - 100853349<br/>Oluseye Ibitoye - 100873496<br/>Shedeva Campbell - 100867998<br/>Ifeoluwa Owolabi - 100888430</p>\n",
    "</div>"
   ]
  },
  {
   "cell_type": "markdown",
   "id": "1018e67e-e0bc-4a00-ab32-eb38d7617e7a",
   "metadata": {},
   "source": [
    "<p>In this assignment we defined 3 functions to make our code more modular. We also passed the number of records, that we want to get, as a \n",
    "parameter to the function to make the function reusable for different number of records.<br/>\n",
    "For the first question, we got top 1000 records from the dataframe after reading youtube.csv file. Then we calculated the channeltype distribution\n",
    "both for all records and top 1000 records. At the end we plot the values in a bar chart.<br/>\n",
    "For the second question, we saved the top 1000 rows into topresults.csv file. Then we imported this csv into youtube table in data1202 schema.<br/>\n",
    "In the Test section of the assignment we displayed the number of rows and columns of youtube.csv file<br/>\n",
    "In addition, we displayed the number of rows and columns in youtube table and the first 5 rows of table data<br/>\n",
    "</p>"
   ]
  },
  {
   "cell_type": "markdown",
   "id": "0c475291-cca9-4b62-be95-c2021b21d8ab",
   "metadata": {
    "tags": []
   },
   "source": [
    "<h2>Import libraries</h2>"
   ]
  },
  {
   "cell_type": "code",
   "execution_count": 1,
   "id": "261b7d52",
   "metadata": {},
   "outputs": [],
   "source": [
    "import pandas as pd\n",
    "from sqlalchemy import create_engine\n",
    "import pymysql\n",
    "import matplotlib.pyplot as plt"
   ]
  },
  {
   "cell_type": "markdown",
   "id": "8cbcd15f-bfa7-4afa-8e33-01681c57a210",
   "metadata": {},
   "source": [
    "<h2> Function that returns the Top N rows</h2>\n",
    "<p>top_n function takes 2 arguments, dataframe and an integer value. This function gets the first N number of rows from the given dataframe (df) and returns the Top N rows."
   ]
  },
  {
   "cell_type": "code",
   "execution_count": 2,
   "id": "aae539a3-d7a2-4d21-a452-c9220284aa4c",
   "metadata": {},
   "outputs": [],
   "source": [
    "def top_n(df,n):\n",
    "    df_top_n=df.iloc[:n,:]\n",
    "    return df_top_n"
   ]
  },
  {
   "cell_type": "markdown",
   "id": "1ef7c294-bbfb-49d9-9168-b44b0af549e3",
   "metadata": {},
   "source": [
    "<h2> Function that calculates the distribution of channel type</h2>\n",
    "<p>channeltype_distribution function takes 1 arguments, dataframe and returns the channeltype distribution.\n"
   ]
  },
  {
   "cell_type": "code",
   "execution_count": 3,
   "id": "07dbdfba-c9c0-467e-9f76-96ab23f75759",
   "metadata": {},
   "outputs": [],
   "source": [
    "# Function to get Top N rows from dataframe \n",
    "# and calculate the distribution of channel type\n",
    "def channeltype_distibution(df_top_n):\n",
    "    distribution=df_top_n[\"channeltype\"].value_counts()\n",
    "    return distribution"
   ]
  },
  {
   "cell_type": "markdown",
   "id": "c1bee415-63ef-4d58-8e06-5096fefdd72d",
   "metadata": {},
   "source": [
    "<h2>Function that load records into a csv file and database</h2>\n",
    "<p>load_top_n function takes 1 arguments, dataframe. This function loads the records into \"topresults.csv\" file with headers. In the next step it loads the data into \"youtube\" table in \"data1202\" schema. If \"youtube\" table already exists, it is replaced.</p>"
   ]
  },
  {
   "cell_type": "code",
   "execution_count": 4,
   "id": "d8c50cc0-b331-484d-bf37-9e3ea4b943c8",
   "metadata": {},
   "outputs": [],
   "source": [
    "def load_top_n(df_top_n):\n",
    "\n",
    "    # write top x data into csv file\n",
    "    df_top_n.to_csv(\"topresults.csv\",index=False)\n",
    "    \n",
    "    # load Top N rows into database\n",
    "    try:\n",
    "        engine=create_engine('mysql+pymysql://root:@localhost/data1202')\n",
    "        df_top_n.to_sql(\"youtube\",engine,if_exists='replace',index=False)\n",
    "    except:\n",
    "        print(\"Could not load data into database\")"
   ]
  },
  {
   "cell_type": "markdown",
   "id": "efacc2fa-6439-4cd9-8f16-cfd56f040f77",
   "metadata": {},
   "source": [
    "<h2> Read data from youtube.csv file</h2>"
   ]
  },
  {
   "cell_type": "code",
   "execution_count": 5,
   "id": "fd994972",
   "metadata": {},
   "outputs": [],
   "source": [
    "df=pd.read_csv(\"youtube_dataset.csv\")"
   ]
  },
  {
   "cell_type": "code",
   "execution_count": 6,
   "id": "5b1b3988",
   "metadata": {},
   "outputs": [
    {
     "data": {
      "text/html": [
       "<div>\n",
       "<style scoped>\n",
       "    .dataframe tbody tr th:only-of-type {\n",
       "        vertical-align: middle;\n",
       "    }\n",
       "\n",
       "    .dataframe tbody tr th {\n",
       "        vertical-align: top;\n",
       "    }\n",
       "\n",
       "    .dataframe thead th {\n",
       "        text-align: right;\n",
       "    }\n",
       "</style>\n",
       "<table border=\"1\" class=\"dataframe\">\n",
       "  <thead>\n",
       "    <tr style=\"text-align: right;\">\n",
       "      <th></th>\n",
       "      <th>web-scraper-order</th>\n",
       "      <th>web-scraper-start-url</th>\n",
       "      <th>userID</th>\n",
       "      <th>userID-href</th>\n",
       "      <th>name</th>\n",
       "      <th>uploads</th>\n",
       "      <th>subscribers</th>\n",
       "      <th>videoviews</th>\n",
       "      <th>country</th>\n",
       "      <th>channeltype</th>\n",
       "      <th>usercreated</th>\n",
       "      <th>grade</th>\n",
       "      <th>YouTube_Link</th>\n",
       "      <th>YouTube_Link-href</th>\n",
       "      <th>TwitterHandle</th>\n",
       "      <th>TwitterHandle-href</th>\n",
       "      <th>InstagramHandle</th>\n",
       "      <th>InstagramHandle-href</th>\n",
       "      <th>MonthlyEarnings</th>\n",
       "      <th>YearlyEarnings</th>\n",
       "    </tr>\n",
       "  </thead>\n",
       "  <tbody>\n",
       "    <tr>\n",
       "      <th>0</th>\n",
       "      <td>1553043067-5148</td>\n",
       "      <td>https://socialblade.com/youtube/top/5000/mosts...</td>\n",
       "      <td>PewDiePie</td>\n",
       "      <td>https://socialblade.com/youtube/c/pewdiepie</td>\n",
       "      <td>PewDiePie</td>\n",
       "      <td>3779</td>\n",
       "      <td>90210848</td>\n",
       "      <td>20772365682</td>\n",
       "      <td>US</td>\n",
       "      <td>Entertainment</td>\n",
       "      <td>Apr 29th, 2010</td>\n",
       "      <td>A</td>\n",
       "      <td>NaN</td>\n",
       "      <td>https://youtube.com/channel/UC-lHJZR3Gqxm24_Vd...</td>\n",
       "      <td>NaN</td>\n",
       "      <td>https://twitter.com/pewdiepie</td>\n",
       "      <td>NaN</td>\n",
       "      <td>https://instagram.com/pewdiepie</td>\n",
       "      <td>€66.9K - €1.1M</td>\n",
       "      <td>€802.3K - €12.8M</td>\n",
       "    </tr>\n",
       "    <tr>\n",
       "      <th>1</th>\n",
       "      <td>1553043063-5147</td>\n",
       "      <td>https://socialblade.com/youtube/top/5000/mosts...</td>\n",
       "      <td>T-Series</td>\n",
       "      <td>https://socialblade.com/youtube/c/tseriesmusic</td>\n",
       "      <td>T-Series</td>\n",
       "      <td>13218</td>\n",
       "      <td>90194329</td>\n",
       "      <td>65092058996</td>\n",
       "      <td>IN</td>\n",
       "      <td>Music</td>\n",
       "      <td>Mar 13th, 2006</td>\n",
       "      <td>A++</td>\n",
       "      <td>NaN</td>\n",
       "      <td>https://youtube.com/channel/UCq-Fj5jknLsUf-MWS...</td>\n",
       "      <td>NaN</td>\n",
       "      <td>https://instagram.com/tseries.official</td>\n",
       "      <td>NaN</td>\n",
       "      <td>https://plus.google.com/115156822320080163368</td>\n",
       "      <td>€635.6K - €10.2M</td>\n",
       "      <td>€7.6M - €122M</td>\n",
       "    </tr>\n",
       "    <tr>\n",
       "      <th>2</th>\n",
       "      <td>1553043059-5146</td>\n",
       "      <td>https://socialblade.com/youtube/top/5000/mosts...</td>\n",
       "      <td>Gaming</td>\n",
       "      <td>https://socialblade.com/youtube/channel/UCOpNc...</td>\n",
       "      <td>Gaming</td>\n",
       "      <td>0</td>\n",
       "      <td>81888222</td>\n",
       "      <td>0</td>\n",
       "      <td>NaN</td>\n",
       "      <td>Games</td>\n",
       "      <td>Dec 15th, 2013</td>\n",
       "      <td>D-</td>\n",
       "      <td>NaN</td>\n",
       "      <td>https://youtube.com/channel/UCOpNcN46UbXVtpKMr...</td>\n",
       "      <td>NaN</td>\n",
       "      <td>NaN</td>\n",
       "      <td>NaN</td>\n",
       "      <td>https://youtube.com/channel/UCOpNcN46UbXVtpKMr...</td>\n",
       "      <td>€0 - €0</td>\n",
       "      <td>€0 - €0</td>\n",
       "    </tr>\n",
       "    <tr>\n",
       "      <th>3</th>\n",
       "      <td>1553043055-5145</td>\n",
       "      <td>https://socialblade.com/youtube/top/5000/mosts...</td>\n",
       "      <td>YouTube Movies</td>\n",
       "      <td>https://socialblade.com/youtube/channel/UClgRk...</td>\n",
       "      <td>YouTube Movies</td>\n",
       "      <td>0</td>\n",
       "      <td>77413743</td>\n",
       "      <td>0</td>\n",
       "      <td>NaN</td>\n",
       "      <td>Film</td>\n",
       "      <td>Jun 10th, 2015</td>\n",
       "      <td>D-</td>\n",
       "      <td>NaN</td>\n",
       "      <td>https://youtube.com/channel/UClgRkhTL3_hImCAmd...</td>\n",
       "      <td>NaN</td>\n",
       "      <td>NaN</td>\n",
       "      <td>NaN</td>\n",
       "      <td>https://youtube.com/channel/UClgRkhTL3_hImCAmd...</td>\n",
       "      <td>€0 - €0</td>\n",
       "      <td>€0 - €0</td>\n",
       "    </tr>\n",
       "    <tr>\n",
       "      <th>4</th>\n",
       "      <td>1553043051-5144</td>\n",
       "      <td>https://socialblade.com/youtube/top/5000/mosts...</td>\n",
       "      <td>Sports</td>\n",
       "      <td>https://socialblade.com/youtube/channel/UCEgdi...</td>\n",
       "      <td>Sports</td>\n",
       "      <td>0</td>\n",
       "      <td>75622870</td>\n",
       "      <td>0</td>\n",
       "      <td>NaN</td>\n",
       "      <td>Sports</td>\n",
       "      <td>Dec 15th, 2013</td>\n",
       "      <td>D-</td>\n",
       "      <td>NaN</td>\n",
       "      <td>https://youtube.com/channel/UCEgdi0XIXXZ-qJOFP...</td>\n",
       "      <td>NaN</td>\n",
       "      <td>NaN</td>\n",
       "      <td>NaN</td>\n",
       "      <td>https://youtube.com/channel/UCEgdi0XIXXZ-qJOFP...</td>\n",
       "      <td>€0 - €0</td>\n",
       "      <td>€0 - €0</td>\n",
       "    </tr>\n",
       "  </tbody>\n",
       "</table>\n",
       "</div>"
      ],
      "text/plain": [
       "  web-scraper-order                              web-scraper-start-url  \\\n",
       "0   1553043067-5148  https://socialblade.com/youtube/top/5000/mosts...   \n",
       "1   1553043063-5147  https://socialblade.com/youtube/top/5000/mosts...   \n",
       "2   1553043059-5146  https://socialblade.com/youtube/top/5000/mosts...   \n",
       "3   1553043055-5145  https://socialblade.com/youtube/top/5000/mosts...   \n",
       "4   1553043051-5144  https://socialblade.com/youtube/top/5000/mosts...   \n",
       "\n",
       "           userID                                        userID-href  \\\n",
       "0       PewDiePie        https://socialblade.com/youtube/c/pewdiepie   \n",
       "1        T-Series     https://socialblade.com/youtube/c/tseriesmusic   \n",
       "2          Gaming  https://socialblade.com/youtube/channel/UCOpNc...   \n",
       "3  YouTube Movies  https://socialblade.com/youtube/channel/UClgRk...   \n",
       "4          Sports  https://socialblade.com/youtube/channel/UCEgdi...   \n",
       "\n",
       "             name  uploads  subscribers   videoviews country    channeltype  \\\n",
       "0       PewDiePie     3779     90210848  20772365682      US  Entertainment   \n",
       "1        T-Series    13218     90194329  65092058996      IN          Music   \n",
       "2          Gaming        0     81888222            0     NaN          Games   \n",
       "3  YouTube Movies        0     77413743            0     NaN           Film   \n",
       "4          Sports        0     75622870            0     NaN         Sports   \n",
       "\n",
       "      usercreated grade YouTube_Link  \\\n",
       "0  Apr 29th, 2010     A          NaN   \n",
       "1  Mar 13th, 2006   A++          NaN   \n",
       "2  Dec 15th, 2013    D-          NaN   \n",
       "3  Jun 10th, 2015    D-          NaN   \n",
       "4  Dec 15th, 2013    D-          NaN   \n",
       "\n",
       "                                   YouTube_Link-href TwitterHandle  \\\n",
       "0  https://youtube.com/channel/UC-lHJZR3Gqxm24_Vd...           NaN   \n",
       "1  https://youtube.com/channel/UCq-Fj5jknLsUf-MWS...           NaN   \n",
       "2  https://youtube.com/channel/UCOpNcN46UbXVtpKMr...           NaN   \n",
       "3  https://youtube.com/channel/UClgRkhTL3_hImCAmd...           NaN   \n",
       "4  https://youtube.com/channel/UCEgdi0XIXXZ-qJOFP...           NaN   \n",
       "\n",
       "                       TwitterHandle-href InstagramHandle  \\\n",
       "0           https://twitter.com/pewdiepie             NaN   \n",
       "1  https://instagram.com/tseries.official             NaN   \n",
       "2                                     NaN             NaN   \n",
       "3                                     NaN             NaN   \n",
       "4                                     NaN             NaN   \n",
       "\n",
       "                                InstagramHandle-href   MonthlyEarnings  \\\n",
       "0                    https://instagram.com/pewdiepie    €66.9K - €1.1M   \n",
       "1      https://plus.google.com/115156822320080163368  €635.6K - €10.2M   \n",
       "2  https://youtube.com/channel/UCOpNcN46UbXVtpKMr...           €0 - €0   \n",
       "3  https://youtube.com/channel/UClgRkhTL3_hImCAmd...           €0 - €0   \n",
       "4  https://youtube.com/channel/UCEgdi0XIXXZ-qJOFP...           €0 - €0   \n",
       "\n",
       "     YearlyEarnings  \n",
       "0  €802.3K - €12.8M  \n",
       "1     €7.6M - €122M  \n",
       "2           €0 - €0  \n",
       "3           €0 - €0  \n",
       "4           €0 - €0  "
      ]
     },
     "execution_count": 6,
     "metadata": {},
     "output_type": "execute_result"
    }
   ],
   "source": [
    "df.head()"
   ]
  },
  {
   "cell_type": "code",
   "execution_count": 7,
   "id": "4c472bfb-b471-4f5e-9cf7-24ac485a64bf",
   "metadata": {},
   "outputs": [
    {
     "data": {
      "text/plain": [
       "(3944, 20)"
      ]
     },
     "execution_count": 7,
     "metadata": {},
     "output_type": "execute_result"
    }
   ],
   "source": [
    "df.shape"
   ]
  },
  {
   "cell_type": "code",
   "execution_count": 8,
   "id": "65376b04-80e0-466c-8b25-0ec9782ab39a",
   "metadata": {},
   "outputs": [],
   "source": [
    "distribution_all=channeltype_distibution(df)"
   ]
  },
  {
   "cell_type": "markdown",
   "id": "5ce7fb12-be0e-4013-99b2-a3984805e6f3",
   "metadata": {},
   "source": [
    "<h2> Call top_n function with parameters df and 1000. (Top 1000 rows will be returned)</h2>"
   ]
  },
  {
   "cell_type": "code",
   "execution_count": 9,
   "id": "6a6dec13-2c2a-410f-9fe2-67f5bd07369f",
   "metadata": {},
   "outputs": [],
   "source": [
    "df_top_1000=top_n(df,1000)"
   ]
  },
  {
   "cell_type": "markdown",
   "id": "d6264fb1-92ac-451f-b3e4-000758dcde87",
   "metadata": {},
   "source": [
    "<h2> Call channeltype_distribution function with parameter df_top_1000. (Distribution of top 1000 rows will be returned)</h2>"
   ]
  },
  {
   "cell_type": "code",
   "execution_count": 10,
   "id": "4a655212",
   "metadata": {},
   "outputs": [
    {
     "data": {
      "text/plain": [
       "Entertainment    284\n",
       "Music            240\n",
       "Games            115\n",
       "Comedy            76\n",
       "People            72\n",
       "Howto             49\n",
       "Film              36\n",
       "Education         30\n",
       "Tech              19\n",
       "News              17\n",
       "Sports            17\n",
       "Autos              3\n",
       "Animals            2\n",
       "Travel             1\n",
       "Nonprofit          1\n",
       "Name: channeltype, dtype: int64"
      ]
     },
     "execution_count": 10,
     "metadata": {},
     "output_type": "execute_result"
    }
   ],
   "source": [
    "distribution=channeltype_distibution(df_top_1000)\n",
    "distribution"
   ]
  },
  {
   "cell_type": "markdown",
   "id": "9d971bdd-4d55-43af-aa7e-3d4a91ab9cbd",
   "metadata": {},
   "source": [
    "<h2> Plot top 1000 rows channeltype distribution</h2>"
   ]
  },
  {
   "cell_type": "code",
   "execution_count": 11,
   "id": "116f03f9",
   "metadata": {},
   "outputs": [
    {
     "data": {
      "image/png": "[encoded data removed]",
      "text/plain": [
       "<Figure size 1080x432 with 2 Axes>"
      ]
     },
     "metadata": {
      "needs_background": "light"
     },
     "output_type": "display_data"
    }
   ],
   "source": [
    "fig, axes = plt.subplots(nrows=1,ncols=2,figsize=(15, 6))\n",
    "distribution_all.plot(ax= axes[0], kind=\"barh\",color=\"orange\",\n",
    "                      title=\"Channeltype distribution (All)\") \n",
    "axes[1].set_xlim(0,1100)\n",
    "distribution.plot(ax = axes[1], kind=\"barh\",\n",
    "                  title=\"Channeltype distribution (Top-1000)\")\n",
    "plt.show()"
   ]
  },
  {
   "cell_type": "markdown",
   "id": "cfa95d92-e47c-430a-a6c3-06cc9f648a82",
   "metadata": {},
   "source": [
    "<h2> Call load_top_X function with parameters df and 1000. (Top 1000 rows will be saved into csv file and imported into database)</h2>"
   ]
  },
  {
   "cell_type": "code",
   "execution_count": null,
   "id": "cb3c3b9c-9c12-49ef-b128-908547519249",
   "metadata": {},
   "outputs": [],
   "source": [
    "load_top_n(df_top_1000)"
   ]
  },
  {
   "cell_type": "markdown",
   "id": "bc9f9d78-7fb9-4bea-a409-fdb6a3755066",
   "metadata": {},
   "source": [
    "<h1> TESTS </h1>\n",
    "<p> This section shows that top 1000 records are saved into topresults.csv and importes into database youtube table.</p>\n",
    "<h2>Get content of topresults.csv in order to see if it is loaded</h2>"
   ]
  },
  {
   "cell_type": "code",
   "execution_count": null,
   "id": "478acb32-c808-48ef-8a55-f7f77ee34803",
   "metadata": {},
   "outputs": [],
   "source": [
    "topresults=pd.read_csv(\"topresults.csv\")\n",
    "topresults.shape"
   ]
  },
  {
   "cell_type": "code",
   "execution_count": null,
   "id": "49a50b37-fb28-4f59-a65a-4046bc4cdee6",
   "metadata": {},
   "outputs": [],
   "source": [
    "topresults.head()"
   ]
  },
  {
   "cell_type": "markdown",
   "id": "f97cc008-3ec8-41a1-811b-78eed3b0140b",
   "metadata": {},
   "source": [
    "<h2>Connect to database and select data from youtube table</h2>"
   ]
  },
  {
   "cell_type": "code",
   "execution_count": null,
   "id": "de2ef626-0a39-4f02-b073-8d27a384e34d",
   "metadata": {},
   "outputs": [],
   "source": [
    "try:\n",
    "    engine=create_engine('mysql+pymysql://root:@localhost/data1202')\n",
    "    conn=engine.connect()\n",
    "    df=pd.read_sql(\"select * from youtube\",conn)\n",
    "    print(\"Number of records and columns in youtube table \",df.shape)\n",
    "    print(df.head())\n",
    "except:\n",
    "    print(\"Could not get data from database\")"
   ]
  },
  {
   "cell_type": "markdown",
   "id": "597f11e7-67ca-46fd-acf2-c412740c19ff",
   "metadata": {
    "tags": []
   },
   "source": [
    "<h1>Assignment Log</h1>\n",
    "<div style=\"text-align:left\">\n",
    "    <table style=\"margin-left: 10px;margin-right: auto;\">\n",
    "        <tr><td>Aysegul Yalcinkaya -100841003</td><td>Coding</td></tr>\n",
    "        <tr><td>Shedeva Campbell - 100867998</td><td>Coding</td></tr>\n",
    "        <tr><td>Oluseye Ibitoye - 100873496</td><td>Reporting &amp; Comments</td></tr>\n",
    "        <tr><td>Sayeed S Ahmed - 100853349</td><td>Testing</td></tr>\n",
    "        <tr><td>Ifeoluwa Owolabi - 100888430</td><td>Testing</td></tr>\n",
    "    </table>\n",
    "</div>"
   ]
  }
 ],
 "metadata": {
  "kernelspec": {
   "display_name": "Python 3 (ipykernel)",
   "language": "python",
   "name": "python3"
  },
  "language_info": {
   "codemirror_mode": {
    "name": "ipython",
    "version": 3
   },
   "file_extension": ".py",
   "mimetype": "text/x-python",
   "name": "python",
   "nbconvert_exporter": "python",
   "pygments_lexer": "ipython3",
   "version": "3.9.12"
  }
 },
 "nbformat": 4,
 "nbformat_minor": 5
}
